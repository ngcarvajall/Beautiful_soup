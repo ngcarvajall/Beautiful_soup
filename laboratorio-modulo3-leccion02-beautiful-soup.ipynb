{
 "cells": [
  {
   "cell_type": "markdown",
   "metadata": {},
   "source": [
    "<div style=\"text-align: center;\">\n",
    "  <img src=\"https://github.com/Hack-io-Data/Imagenes/blob/main/01-LogosHackio/logo_naranja@4x.png?raw=true\" alt=\"esquema\" />\n",
    "</div>"
   ]
  },
  {
   "cell_type": "markdown",
   "metadata": {},
   "source": [
    "## Contexto\n",
    "\n",
    "**Descripción:**\n",
    "\n",
    "SetMagic Productions es una empresa especializada en la provisión de servicios integrales para la realización de rodajes cinematográficos y audiovisuales. Nos dedicamos a facilitar tanto el atrezzo necesario para las producciones como los lugares idóneos para llevar a cabo los rodajes, ya sea en entornos al aire libre o en interiores.\n",
    "\n",
    "**Servicios Ofrecidos:**\n",
    "\n",
    "- **Atrezzo Creativo:** Contamos con un extenso catálogo de atrezzo que abarca desde accesorios hasta muebles y objetos temáticos para ambientar cualquier tipo de  escena.\n",
    "\n",
    "- **Locaciones Únicas:** Nuestra empresa ofrece una amplia selección de locaciones, que incluyen desde escenarios naturales como playas, bosques y montañas, hasta espacios interiores como estudios, casas históricas y edificios emblemáticos.\n",
    "- **Servicios de Producción:** Además de proporcionar atrezzo y locaciones, también ofrecemos servicios de producción audiovisual, incluyendo equipos de filmación, personal técnico y servicios de postproducción.\n",
    "\n",
    "**Herramientas y Tecnologías:**\n",
    "\n",
    "Para recopilar información sobre nuevas locaciones y tendencias en atrezzo, utilizamos herramientas de web scraping como Beautiful Soup y Selenium para extraer datos de sitios web relevantes y redes sociales especializadas en cine y producción audiovisual. También integramos APIs de plataformas de alquiler de locaciones y bases de datos de atrezzo para acceder a información actualizada y detallada.\n",
    "\n",
    "**Almacenamiento de Datos:** (A trabajar la próxima semana)\n",
    "\n",
    "La información recopilada mediante web scraping y APIs se almacenará tanto en una base de datos relacional SQL como en una base de datos no relacional MongoDB . Estas base de datos nos permite organizar eficientemente la información sobre locaciones, atrezzo, clientes y proyectos en curso, facilitando su acceso y gestión.\n",
    "\n",
    "**Objetivo:**\n",
    "\n",
    "Nuestro objetivo principal es proporcionar a nuestros clientes una experiencia fluida y personalizada en la búsqueda y selección de locaciones y atrezzo para sus proyectos audiovisuales. Utilizando tecnologías avanzadas y una amplia red de contactos en la industria, nos esforzamos por ofrecer soluciones creativas y de alta calidad que satisfagan las necesidades específicas de cada producción.\n",
    "\n",
    "\n",
    "## Lab: Extracción de Información con Beautiful Soup\n",
    "\n",
    "En este laboratorio seguirás enriqueciendo la base de datos para ofrecer a tus clientes un servicio más completo y personalizado. Para lograr esto, extraerás información valiosa sobre objetos de atrezzo de una web especializada. Utilizarás técnicas de web scraping con la biblioteca **Beautiful Soup** para obtener y organizar los datos de manera eficiente.\n",
    "\n",
    "Trabajarás con la siguiente URL: [Atrezzo Vázquez](https://atrezzovazquez.es/shop.php?search_type=-1&search_terms=&limit=48&page=1). Esta página contiene una gran cantidad de objetos de atrezzo que pueden ser de interés para un proyecto de rodaje. Tu tarea será extraer información relevante de los productos listados en las primeras 100 páginas.\n",
    "\n",
    "1. **Navegación y Extracción de Múltiples Páginas**:\n",
    "\n",
    "   - La página web contiene varios elementos distribuidos en distintas páginas. Tu objetivo será iterar a través de las 100 primeras páginas y extraer la información deseada.\n",
    "\n",
    "   - Debes asegurarte de que tu código sea capaz de navegar automáticamente por estas páginas y extraer datos de manera continua.\n",
    "\n",
    "2. **Verificación del Código de Estado de la Respuesta**:\n",
    "\n",
    "   - Antes de extraer cualquier información, es fundamental verificar que la solicitud a la página web ha sido exitosa. Un código de estado 200 indica que la página se ha cargado correctamente.\n",
    "\n",
    "   - Si el código no es 200, debes imprimir un mensaje de error y detener la ejecución de la extracción para evitar problemas posteriores.\n",
    "\n",
    "3. **Extracción de Información Específica**:\n",
    "\n",
    "   De cada página, deberás extraer los siguientes detalles de los objetos de atrezzo:\n",
    "\n",
    "   - **Nombre del Objeto**: El nombre o identificador del objeto.\n",
    "\n",
    "   - **Categoría**: La categoría en la que se clasifica el objeto (ej.: mobiliario, decorado, utilería, etc.).\n",
    "\n",
    "   - **Sección**: La sección específica dentro de la categoría.\n",
    "\n",
    "   - **Descripción**: Una breve descripción del objeto que puede incluir detalles sobre su estilo, material o uso.\n",
    "\n",
    "   - **Dimensiones**: El tamaño del objeto en formato (largo x ancho x alto).\n",
    "\n",
    "   - **Enlace a la Imagen**: El link a la imagen del objeto, útil para tener una vista previa visual.\n",
    "\n",
    "4. **Organización de los Datos en un Diccionario**:\n",
    "\n",
    "   Una vez extraída la información, deberás organizarla en un diccionario con las siguientes claves:\n",
    "\n",
    "   - `\"nombre\"`: Nombres del objeto.\n",
    "\n",
    "   - `\"categoria\"`: Categoría a la que pertenece el objeto.\n",
    "\n",
    "   - `\"seccion\"`: Sección específica dentro de la categoría.\n",
    "\n",
    "   - `\"descripcion\"`: Breve descripción del objeto.\n",
    "\n",
    "   - `\"dimensiones\"`: Dimensiones del objeto en el formato adecuado.\n",
    "\n",
    "   - `\"imagen\"`: URL de la imagen del objeto.\n",
    "\n",
    "5. **Almacenamiento de la Información en un DataFrame**:\n",
    "\n",
    "   Una vez que tengas toda la información organizada en diccionarios, el siguiente paso es convertirla en un DataFrame de Pandas. Este DataFrame te permitirá manipular y analizar los datos con facilidad. Tu DataFrame debería verse similar al ejemplo proporcionado, donde cada fila representa un objeto diferente y cada columna contiene la información extraída:\n",
    "\n",
    "![Dataframe](https://github.com/Hack-io-Data/Imagenes/blob/main/02-Imagenes/BS/df_atrezzo.png?raw=true)\n",
    "\n",
    "\n",
    "6.  Consideraciones Adicionales:\n",
    "\n",
    "- Asegúrate de manejar posibles errores o excepciones durante el scraping, como tiempos de espera agotados, páginas inaccesibles o datos faltantes.\n",
    "\n",
    "- Recuerda que el scraping debe hacerse de manera respetuosa, evitando sobrecargar el servidor de la página web (puedes usar pausas entre solicitudes).\n",
    "\n",
    "- Finalmente, asegúrate de almacenar el DataFrame en un archivo CSV para que puedas reutilizar esta información en análisis futuros.\n"
   ]
  },
  {
   "cell_type": "markdown",
   "metadata": {},
   "source": []
  },
  {
   "cell_type": "code",
   "execution_count": 73,
   "metadata": {},
   "outputs": [],
   "source": [
    "# Importamos las librerías que necesitamos\n",
    "import numpy as np\n",
    "# Librerías de extracción de datos\n",
    "# -----------------------------------------------------------------------\n",
    "from bs4 import BeautifulSoup\n",
    "import requests\n",
    "import re\n",
    "# Tratamiento de datos\n",
    "# -----------------------------------------------------------------------\n",
    "import pandas as pd\n"
   ]
  },
  {
   "cell_type": "code",
   "execution_count": 91,
   "metadata": {},
   "outputs": [
    {
     "name": "stdout",
     "output_type": "stream",
     "text": [
      "200\n",
      "200\n"
     ]
    }
   ],
   "source": [
    "# Paso 1\n",
    "sopa_atrezzo = []\n",
    "for i in range(1,3):\n",
    "    url_atrezzo = f'https://atrezzovazquez.es/shop.php?search_type=-1&search_terms=&limit=48&page={i}'\n",
    "    # Paso 2\n",
    "    response = requests.get(url_atrezzo)\n",
    "    # Paso 3\n",
    "    if str(response) == '<Response [200]>':\n",
    "        print(response.status_code)\n",
    "        # Paso 4\n",
    "        sopa_atrezzo.append(BeautifulSoup(response.content, 'html.parser'))\n",
    "    else: \n",
    "        print('Hay un error')\n",
    "        break"
   ]
  },
  {
   "cell_type": "code",
   "execution_count": null,
   "metadata": {},
   "outputs": [],
   "source": [
    "def funcion(sopa):\n",
    "    df_final = []\n",
    "    # descripciones\n",
    "    lista_info = sopa.findAll('div', {'class': \"col-md-3 col-sm-4 shop-grid-item\"})\n",
    "    descripciones= [element.find('p').getText() for element in lista_info]\n",
    "    # nombres\n",
    "    lista_nombres = sopa_atrezzo.findAll('a', {'class': 'title'})\n",
    "    nombres_objetos = [nombre.getText() for nombre in lista_nombres]\n",
    "    # Sacar categorías\n",
    "    lista_categorias = sopa_atrezzo.findAll('div', {'class': 'cat-sec'})\n",
    "    nombre_categorias = [ncat.getText().replace('\\xa0\\xa0','') for ncat in lista_categorias]\n",
    "    # Sección\n",
    "    lista_secciones = sopa_atrezzo.findAll('a', {'class': 'tag'})\n",
    "    nombre_secciones = [nsec.getText() for nsec in lista_secciones]\n",
    "    # Enlace a imagen\n",
    "    lista_imagen = sopa_atrezzo.findAll('img')\n",
    "    lista_imagen = [link.get('src') for link in lista_imagen]\n",
    "    # dimensiones\n",
    "    lista_dimensiones= sopa_atrezzo.findAll('div', {'class': 'price'})\n",
    "    nombre_dimensiones = [dimensiones.getText().strip() for dimensiones in lista_dimensiones]\n",
    "\n",
    "    diccionario = {'nombre': nombres_objetos, 'categoria': nombre_categorias, 'seccion': nombre_secciones, 'descripcion': descripciones, 'dimensiones': nombre_dimensiones, 'imagen': lista_imagen}\n",
    "    pd.DataFrame[diccionario]\n",
    "    df_final = df_final.concat()"
   ]
  },
  {
   "cell_type": "code",
   "execution_count": 30,
   "metadata": {},
   "outputs": [],
   "source": [
    "lista_info = sopa_atrezzo.findAll('div', {'class': \"col-md-3 col-sm-4 shop-grid-item\"})\n",
    "\n",
    "descripciones= [element.find('p').getText() for element in lista_info]\n",
    "# <div class=\"col-md-3 col-sm-4 shop-grid-item\" bis_skin_checked=\"1\">\n",
    "#                                                         <div class=\"product-slide-entry shift-image\" bis_skin_checked=\"1\">\n",
    "#                                                             <div class=\"product-image\" bis_skin_checked=\"1\"><img src=\"admin/img_prod/ALF1/ALF1-720x540.png\" alt=\"\"><img src=\"admin/img_prod/ALF1/ALF1-720x540.png\" alt=\"\"><div class=\"bottom-line left-attached\" bis_skin_checked=\"1\">\n",
    "#                                                                     <a class=\"bottom-line-a square\" onclick=\"add_to_chart('ALF1')\"><i class=\"fa fa-shopping-cart\"></i></a>\n",
    "#                                                                     <a class=\"bottom-line-a square open-image\" onclick=\"expand('ALF1')\"><i class=\"fa fa-expand\"></i></a>\n",
    "#                                                                 </div>\n",
    "#                                                             </div><a class=\"tag\" href=\"#\">Alfombra</a><a class=\"title\" href=\"product.php?prod=ALF1\">ALF1</a>\n",
    "#                                                             <div class=\"cat-sec-box\" bis_skin_checked=\"1\"><div class=\"cat-sec\" bis_skin_checked=\"1\">Arabe&nbsp;&nbsp;</div></div>\n",
    "#                                                             <div class=\"article-container style-1\" bis_skin_checked=\"1\">\n",
    "#                                                                 <p>Alfombra persa marrón (tiene unas manchas que no se quitan).</p>\n",
    "#                                                             </div>\n",
    "#                                                             <div class=\"price\" bis_skin_checked=\"1\">\n",
    "#                                                                 <div bis_skin_checked=\"1\">460x340x1 (cm)</div>\n",
    "#                                                             </div>\n",
    "#                                                             <div class=\"list-buttons\" bis_skin_checked=\"1\">\n",
    "#                                                                 <a class=\"button style-10\" onclick=\"add_to_chart('ALF1')\">Añadir al presupuesto</a>\n",
    "#                                                             </div>\n",
    "#                                                         </div>\n",
    "#                                                         <div class=\"clear\" bis_skin_checked=\"1\"></div>\n",
    "#                                                     </div>"
   ]
  },
  {
   "cell_type": "code",
   "execution_count": 33,
   "metadata": {},
   "outputs": [
    {
     "data": {
      "text/plain": [
       "['Alfombra persa marrón (tiene unas manchas que no se quitan).',\n",
       " 'Vitrina con abanico']"
      ]
     },
     "execution_count": 33,
     "metadata": {},
     "output_type": "execute_result"
    }
   ],
   "source": [
    "descripciones[:2]"
   ]
  },
  {
   "cell_type": "code",
   "execution_count": 59,
   "metadata": {},
   "outputs": [],
   "source": [
    "# Sacar nombres\n",
    "lista_nombres = sopa_atrezzo.findAll('a', {'class': 'title'})\n",
    "nombres_objetos = [nombre.getText() for nombre in lista_nombres]\n",
    "# Sacar categorías\n",
    "lista_categorias = sopa_atrezzo.findAll('div', {'class': 'cat-sec'})\n",
    "nombre_categorias = [ncat.getText().replace('\\xa0\\xa0','') for ncat in lista_categorias]\n",
    "# Sección\n",
    "lista_secciones = sopa_atrezzo.findAll('a', {'class': 'tag'})\n",
    "nombre_secciones = [nsec.getText() for nsec in lista_secciones]\n",
    "\n",
    "# Descripción\n",
    "\n",
    "# Enlace a imagen\n",
    "lista_imagen = sopa_atrezzo.findAll('img')\n",
    "lista_imagen = [link.get('src') for link in lista_imagen]"
   ]
  },
  {
   "cell_type": "code",
   "execution_count": 80,
   "metadata": {},
   "outputs": [
    {
     "data": {
      "text/plain": [
       "['460x340x1 (cm)',\n",
       " '100x10x60 (cm)',\n",
       " '150x72x1 (cm)',\n",
       " '207x64x300 (cm)',\n",
       " '78x78x130 (cm)',\n",
       " '65x60x120 (cm)',\n",
       " '136x54x80 (cm)',\n",
       " '150x57x225 (cm)',\n",
       " '70x22x130 (cm)',\n",
       " '43x100x30 (cm)',\n",
       " '70x70x170 (cm)',\n",
       " '140x135x175 (cm)',\n",
       " '154x53x185 (cm)',\n",
       " '36x36x54 (cm)',\n",
       " '70x70x47 (cm)',\n",
       " '181x80x70 (cm)',\n",
       " '95x35x150 (cm)',\n",
       " '60x60x93 (cm)',\n",
       " '47x45x132 (cm)',\n",
       " '58x58x103 (cm)',\n",
       " '1x1x1 (cm)',\n",
       " '110x10x190 (cm)',\n",
       " '50x90x140 (cm)',\n",
       " '240x5x170 (cm)',\n",
       " '1x120x105 (cm)',\n",
       " '30x30x40 (cm)',\n",
       " '254x60x80 (cm)',\n",
       " '75x75x215 (cm)',\n",
       " '1x1x1 (cm)',\n",
       " '70x40x128 (cm)',\n",
       " '42x40x34 (cm)',\n",
       " '173x6x156 (cm)',\n",
       " '68x95x186 (cm)',\n",
       " '150x50x53 (cm)',\n",
       " '0x0x0 (cm)',\n",
       " '24x24x110 (cm)',\n",
       " '180x70x70 (cm)',\n",
       " '55x57x84 (cm)',\n",
       " '135x63x100 (cm)',\n",
       " '115x50x85 (cm)',\n",
       " '54x30x65 (cm)',\n",
       " '137x10x240 (cm)',\n",
       " '10x1x15 (cm)',\n",
       " '95x60x190 (cm)',\n",
       " '0x0x0 (cm)',\n",
       " '57x47x67 (cm)',\n",
       " '62x34x110 (cm)',\n",
       " '1x1x1 (cm)']"
      ]
     },
     "execution_count": 80,
     "metadata": {},
     "output_type": "execute_result"
    }
   ],
   "source": [
    "# Dimensiones\n",
    "lista_dimensiones= sopa_atrezzo.findAll('div', {'class': 'price'})\n",
    "nombre_dimensiones = [dimensiones.getText().strip() for dimensiones in lista_dimensiones]\n",
    "# for i in nombre_dimensiones:\n",
    "#     i.getText().strip()\n",
    "nombre_dimensiones"
   ]
  },
  {
   "cell_type": "code",
   "execution_count": null,
   "metadata": {},
   "outputs": [],
   "source": []
  }
 ],
 "metadata": {
  "kernelspec": {
   "display_name": "Python 3",
   "language": "python",
   "name": "python3"
  },
  "language_info": {
   "codemirror_mode": {
    "name": "ipython",
    "version": 3
   },
   "file_extension": ".py",
   "mimetype": "text/x-python",
   "name": "python",
   "nbconvert_exporter": "python",
   "pygments_lexer": "ipython3",
   "version": "3.11.9"
  }
 },
 "nbformat": 4,
 "nbformat_minor": 2
}
